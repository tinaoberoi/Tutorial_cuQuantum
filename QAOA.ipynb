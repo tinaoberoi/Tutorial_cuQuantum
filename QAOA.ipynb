{
  "nbformat": 4,
  "nbformat_minor": 0,
  "metadata": {
    "colab": {
      "provenance": []
    },
    "kernelspec": {
      "name": "python3",
      "display_name": "Python 3"
    },
    "language_info": {
      "name": "python"
    }
  },
  "cells": [
    {
      "cell_type": "code",
      "execution_count": null,
      "metadata": {
        "id": "EwCV5bOBUi68"
      },
      "outputs": [],
      "source": [
        "try:\n",
        "    import cirq\n",
        "    import cirq_google\n",
        "except ImportError:\n",
        "    print(\"installing cirq...\")\n",
        "    !pip install --quiet cirq-google --pre\n",
        "    print(\"installed cirq.\")\n",
        "    import cirq\n",
        "    import cirq_google\n",
        "\n",
        "try:\n",
        "    import qsimcirq\n",
        "except ImportError:\n",
        "    print(\"installing qsimcirq...\")\n",
        "    !pip install qsimcirq\n",
        "    print(\"installed qsimcirq.\")\n",
        "\n",
        "import copy\n",
        "import random\n",
        "import time"
      ]
    },
    {
      "cell_type": "code",
      "source": [
        "def rand2d(rows, cols):\n",
        "    return[[random.choice([+1, -1]) for _ in range(cols)] for _ in range(rows)]\n",
        "\n",
        "def random_instance(length):\n",
        "    h = rand2d(length, length)\n",
        "    jr = rand2d(length, length)\n",
        "    jc = rand2d(length, length-1)\n",
        "    return (h, jr, jc)\n",
        "\n",
        "h, jr, jc= random_instance(3)"
      ],
      "metadata": {
        "id": "_-mkxEnyUmnf"
      },
      "execution_count": null,
      "outputs": []
    },
    {
      "cell_type": "code",
      "source": [
        "def prepare_plus_layer(length):\n",
        "    for i in range(length):\n",
        "        for j in range(length):\n",
        "            yield cirq.H(cirq.GridQubit(i, j))\n",
        "\n",
        "def rot_x_layer(length, half_turns):\n",
        "    # define circuit once and reuse for each operation\n",
        "    rot = cirq.XPowGate(exponent=half_turns)\n",
        "    for i in range(length):\n",
        "        for j in range(length):\n",
        "            yield rot(cirq.GridQubit(i, j))\n",
        "\n",
        "def rot_z_layer(h, half_turns):\n",
        "    gate = cirq.ZPowGate(exponent=half_turns)\n",
        "    for i,h_row in enumerate(h):\n",
        "        for j, h_ij in enumerate(h_row):\n",
        "            if h_ij == 1:\n",
        "             yield gate(cirq.GridQubit(i, j))\n",
        "\n",
        "def rot_11_layer(jr, jc, half_turns):\n",
        "    cz_gate = cirq.CZPowGate(exponent=half_turns)\n",
        "    for i, jr_row in enumerate(jr):\n",
        "        for j, jr_ij in enumerate(jr_row):\n",
        "            q = cirq.GridQubit(i, j)\n",
        "            q_1 = cirq.GridQubit(i+1, j)\n",
        "            if jr_ij == -1:\n",
        "                yield cirq.X(q)\n",
        "                yield cirq.X(q_1)\n",
        "            yield cz_gate(q, q_1)\n",
        "            if jr_ij == -1:\n",
        "                yield cirq.X(q)\n",
        "                yield cirq.X(q_1)\n",
        "\n",
        "    for i, jc_row in enumerate(jc):\n",
        "        for j, jc_ij in enumerate(jc_row):\n",
        "            q = cirq.GridQubit(i, j)\n",
        "            q_1 = cirq.GridQubit(i, j+1)\n",
        "            if jc_ij == -1:\n",
        "                yield cirq.X(q)\n",
        "                yield cirq.X(q_1)\n",
        "            yield cz_gate(q, q_1)\n",
        "            if jc_ij == -1:\n",
        "                yield cirq.X(q)\n",
        "                yield cirq.X(q_1)"
      ],
      "metadata": {
        "id": "Ab9LkQMfVF_A"
      },
      "execution_count": null,
      "outputs": []
    },
    {
      "cell_type": "code",
      "source": [
        "length = 5\n",
        "qubits = cirq.GridQubit.square(length)\n",
        "h, jr, jc = random_instance(length)\n",
        "\n",
        "circuit = cirq.Circuit()\n",
        "circuit.append(prepare_plus_layer(length))\n",
        "circuit.append(rot_z_layer(h, 0.3))\n",
        "circuit.append(rot_11_layer(jr, jc, 0.3))\n",
        "circuit.append(rot_x_layer(length, 0.3))\n",
        "circuit.append(cirq.measure(*qubits, key='x'))"
      ],
      "metadata": {
        "id": "l64w6w6GVQBF"
      },
      "execution_count": null,
      "outputs": []
    },
    {
      "cell_type": "code",
      "source": [
        "simulator = cirq.Simulator()\n",
        "\n",
        "ngpus = 1\n",
        "qsim_options = qsimcirq.QSimOptions(\n",
        "    max_fused_gate_size = 2,\n",
        "    cpu_threads = 1,\n",
        "    gpu_mode = ngpus,\n",
        "    use_gpu = True,\n",
        ")\n",
        "\n",
        "# simulator_cuQ = qsimcirq.QSimSimulator(qsim_options)"
      ],
      "metadata": {
        "id": "DErP8RuqVR3q"
      },
      "execution_count": null,
      "outputs": []
    },
    {
      "cell_type": "code",
      "source": [
        "start = time.time()\n",
        "results = simulator.run(circuit, repetitions = 100)\n",
        "print(results.histogram(key='x'))\n",
        "print(\"CPU runtime: {: .2f}s\".format(time.time() - start))"
      ],
      "metadata": {
        "id": "zHYvA185VUKM"
      },
      "execution_count": null,
      "outputs": []
    },
    {
      "cell_type": "code",
      "source": [],
      "metadata": {
        "id": "IECUmYfrVdzD"
      },
      "execution_count": null,
      "outputs": []
    }
  ]
}